{
 "cells": [
  {
   "cell_type": "markdown",
   "id": "0da20646",
   "metadata": {},
   "source": [
    "# Régression \n",
    "## Entrainement d'un modèle de régression linéaire"
   ]
  },
  {
   "cell_type": "markdown",
   "id": "17fb7f88",
   "metadata": {},
   "source": [
    "L'analyse de régression linéaire sert à prévoir la valeur d'une variable en fonction de la valeur d'une autre variable. La variable dont vous souhaitez prévoir la valeur est la variable dépendante. La variable que vous utilisez pour prévoir la valeur de l'autre variable est la variable indépendante."
   ]
  },
  {
   "cell_type": "markdown",
   "id": "6f4229df",
   "metadata": {},
   "source": [
    "### sklearn"
   ]
  },
  {
   "cell_type": "markdown",
   "id": "b0316b14",
   "metadata": {},
   "source": [
    "Pour la programmation des problèmes de régression dans cette séance, nous allons utiliser la bibliothèque scikit-learn. Si vous ne l'avez pas installée, vous pouvez la télécharger via Anaconda en utilisant cette commande​:\n",
    "\n",
    "conda install -c anaconda scikit-learn\n"
   ]
  },
  {
   "cell_type": "markdown",
   "id": "77b15533",
   "metadata": {},
   "source": [
    "scikit-learn, également connu sous le nom de sklearn, est une bibliothèque open-source de machine learning pour le langage de programmation Python. Elle offre des outils efficaces et simples pour l'exploration de données, l'analyse de données et la mise en œuvre d'algorithmes d'apprentissage automatique"
   ]
  },
  {
   "cell_type": "markdown",
   "id": "a594af92",
   "metadata": {},
   "source": [
    "### 1- importer les bibliothèques nécessaires\n",
    "\n",
    "\n",
    "import pandas as pd\n",
    "\n",
    "import numpy as np\n",
    "\n",
    "import matplotlib.pyplot as plt\n",
    "\n",
    "from sklearn.model_selection import train_test_split\n",
    "\n",
    "from sklearn.linear_model import LinearRegression\n",
    "\n",
    "from sklearn.metrics import mean_absolute_error,mean_squared_error,r2_score\n"
   ]
  },
  {
   "cell_type": "code",
   "execution_count": 2,
   "id": "fd3e8a40",
   "metadata": {
    "execution": {
     "iopub.execute_input": "2023-11-11T08:37:57.179717Z",
     "iopub.status.busy": "2023-11-11T08:37:57.178675Z",
     "iopub.status.idle": "2023-11-11T08:37:58.908894Z",
     "shell.execute_reply": "2023-11-11T08:37:58.907300Z"
    },
    "papermill": {
     "duration": 1.742763,
     "end_time": "2023-11-11T08:37:58.912790",
     "exception": false,
     "start_time": "2023-11-11T08:37:57.170027",
     "status": "completed"
    },
    "tags": []
   },
   "outputs": [],
   "source": [
    "import pandas as pd\n",
    "\n",
    "import numpy as np\n",
    "\n",
    "import matplotlib.pyplot as plt\n",
    "\n",
    "from sklearn.model_selection import train_test_split\n",
    "\n",
    "from sklearn.linear_model import LinearRegression\n",
    "\n",
    "from sklearn.metrics import mean_absolute_error,mean_squared_error,r2_score"
   ]
  },
  {
   "cell_type": "markdown",
   "id": "15c82b74",
   "metadata": {},
   "source": [
    "###  2-  Lisez le fichier Salary_dataset.csv contenant les années d'expérience et le taux de salaire pour les 30 employés d'une entreprise"
   ]
  },
  {
   "cell_type": "markdown",
   "id": "ce9ed5a5",
   "metadata": {},
   "source": [
    "Pour lire un fichier CSV en Python, vous pouvez utiliser la méthode read_csv de la bibliothèque pandas. Lisez ce fichier sous le nom df."
   ]
  },
  {
   "cell_type": "code",
   "execution_count": 3,
   "id": "6d87c8ea",
   "metadata": {
    "execution": {
     "iopub.execute_input": "2023-11-11T08:37:58.929504Z",
     "iopub.status.busy": "2023-11-11T08:37:58.928979Z",
     "iopub.status.idle": "2023-11-11T08:37:58.978079Z",
     "shell.execute_reply": "2023-11-11T08:37:58.976580Z"
    },
    "papermill": {
     "duration": 0.06142,
     "end_time": "2023-11-11T08:37:58.981442",
     "exception": false,
     "start_time": "2023-11-11T08:37:58.920022",
     "status": "completed"
    },
    "tags": []
   },
   "outputs": [],
   "source": [
    "df = pd.read_csv('Salary_dataset.csv')"
   ]
  },
  {
   "cell_type": "markdown",
   "id": "4d04cb94",
   "metadata": {},
   "source": [
    " ### 3- Divisez les données en ensembles d'entraînement et de test\n",
    " \n",
    "Nous voulons entraîner un modèle de régression linéaire en utilisant la bibliothèque scikit-learn​.\n",
    "\n",
    "\n",
    "La fonction train_test_split de scikit-learn renvoie plusieurs résultats, généralement sous forme de tuples. Le nombre de résultats dépend du nombre de tableaux que vous fournissez à la fonction. Voici une vue d'ensemble générale :\n",
    "\n",
    "x_train, x_test, y_train, y_test = train_test_split(x, y, test_size=0.3, random_state=40)\n",
    " \n",
    "x_train : Le tableau de caractéristiques pour l'ensemble d'entraînement.\n",
    "\n",
    "x_test : Le tableau de caractéristiques pour l'ensemble de test.\n",
    "\n",
    "y_train : Le tableau de cibles pour l'ensemble d'entraînement.\n",
    "\n",
    "y_test : Le tableau de cibles pour l'ensemble de test.\n",
    "\n",
    "De plus, il est important de noter que l'ordre des tableaux dans le tuple de sortie est le même que l'ordre dans lequel vous les fournissez à la fonction train_test_split. Par exemple, si vous fournissez train_test_split(x, y), le tuple de sortie sera x_train, x_test, y_train, y_test).\n",
    "\n",
    "L'objectif de train_test_split est de diviser aléatoirement vos données en ensembles d'entraînement et de test, facilitant l'évaluation et la validation du modèle. Le paramètre test_size détermine la proportion du jeu de données qui devient l'ensemble de test.\n",
    "\n",
    "\n",
    "Sélectionnez les colonnes d'entrée (features) et de sortie (target).\n",
    "\n",
    "Divisez les données en ensembles d'entraînement et de test en utilisant la méthode train_test_split de scikit-learn. Assignez 30 % des données au test et le reste pour l'entraînement.\n",
    "\n",
    "Utilisons une graine aléatoire de 40 pour obtenir des résultats similaires. (random_state=40)\n"
   ]
  },
  {
   "cell_type": "code",
   "execution_count": 39,
   "id": "6358bbef",
   "metadata": {
    "execution": {
     "iopub.execute_input": "2023-11-11T08:37:59.713641Z",
     "iopub.status.busy": "2023-11-11T08:37:59.712756Z",
     "iopub.status.idle": "2023-11-11T08:37:59.721408Z",
     "shell.execute_reply": "2023-11-11T08:37:59.719965Z"
    },
    "papermill": {
     "duration": 0.023152,
     "end_time": "2023-11-11T08:37:59.724955",
     "exception": false,
     "start_time": "2023-11-11T08:37:59.701803",
     "status": "completed"
    },
    "tags": []
   },
   "outputs": [],
   "source": [
    "x=df['YearsExperience']\n",
    "y=df['Salary']\n",
    "x_train, x_test, y_train, y_test = train_test_split(x, y, test_size=0.3, random_state=40)"
   ]
  },
  {
   "cell_type": "markdown",
   "id": "b22d831b",
   "metadata": {},
   "source": [
    "Affichez la taille des tableaux x_train, x_test, y_train, y_test en utilisant l'attribut shape.\n",
    "\n",
    "ex: print(x_train.shape)"
   ]
  },
  {
   "cell_type": "code",
   "execution_count": 40,
   "id": "ea568fb1",
   "metadata": {},
   "outputs": [
    {
     "name": "stdout",
     "output_type": "stream",
     "text": [
      "(21,)\n",
      "(9,)\n",
      "(21,)\n",
      "(9,)\n"
     ]
    }
   ],
   "source": [
    "print(x_train.shape)\n",
    "print(x_test.shape)\n",
    "print(y_train.shape)\n",
    "print(y_test.shape)"
   ]
  },
  {
   "cell_type": "markdown",
   "id": "2b1e9d16",
   "metadata": {},
   "source": [
    "Utilisez np.array().reshape(-1, 1) pour redimensionner les tableaux 1D en tableaux 2D et affichez les nouvelles formes des tableaux.\n",
    "\n",
    "ex: x_train = np.array(x_train).reshape(-1, 1)"
   ]
  },
  {
   "cell_type": "code",
   "execution_count": 41,
   "id": "fcfab1d4",
   "metadata": {
    "execution": {
     "iopub.execute_input": "2023-11-11T08:37:59.779909Z",
     "iopub.status.busy": "2023-11-11T08:37:59.778604Z",
     "iopub.status.idle": "2023-11-11T08:37:59.788435Z",
     "shell.execute_reply": "2023-11-11T08:37:59.786920Z"
    },
    "papermill": {
     "duration": 0.023614,
     "end_time": "2023-11-11T08:37:59.792088",
     "exception": false,
     "start_time": "2023-11-11T08:37:59.768474",
     "status": "completed"
    },
    "tags": []
   },
   "outputs": [],
   "source": [
    "x_train = np.array(x_train).reshape(-1, 1)\n",
    "y_train = np.array(y_train).reshape(-1, 1)\n",
    "x_test = np.array(x_test).reshape(-1, 1)\n",
    "y_test = np.array(x_test).reshape(-1, 1)"
   ]
  },
  {
   "cell_type": "markdown",
   "id": "f89bf94a",
   "metadata": {},
   "source": [
    "### 4- Créez un modèle de régression linéaire en utilisant la classe LinearRegression de sklearn "
   ]
  },
  {
   "cell_type": "code",
   "execution_count": 42,
   "id": "efef0408",
   "metadata": {},
   "outputs": [],
   "source": [
    "linear_regression = LinearRegression()"
   ]
  },
  {
   "cell_type": "markdown",
   "id": "9bd544d5",
   "metadata": {},
   "source": [
    "### 5- Entraînez le modèle sur les données d'entraînement en utilisant la méthode fit"
   ]
  },
  {
   "cell_type": "code",
   "execution_count": 43,
   "id": "6ff88375",
   "metadata": {
    "execution": {
     "iopub.execute_input": "2023-11-11T08:37:59.811707Z",
     "iopub.status.busy": "2023-11-11T08:37:59.811162Z",
     "iopub.status.idle": "2023-11-11T08:37:59.839185Z",
     "shell.execute_reply": "2023-11-11T08:37:59.837875Z"
    },
    "papermill": {
     "duration": 0.041174,
     "end_time": "2023-11-11T08:37:59.841917",
     "exception": false,
     "start_time": "2023-11-11T08:37:59.800743",
     "status": "completed"
    },
    "tags": []
   },
   "outputs": [
    {
     "data": {
      "text/html": [
       "<style>#sk-container-id-3 {color: black;}#sk-container-id-3 pre{padding: 0;}#sk-container-id-3 div.sk-toggleable {background-color: white;}#sk-container-id-3 label.sk-toggleable__label {cursor: pointer;display: block;width: 100%;margin-bottom: 0;padding: 0.3em;box-sizing: border-box;text-align: center;}#sk-container-id-3 label.sk-toggleable__label-arrow:before {content: \"▸\";float: left;margin-right: 0.25em;color: #696969;}#sk-container-id-3 label.sk-toggleable__label-arrow:hover:before {color: black;}#sk-container-id-3 div.sk-estimator:hover label.sk-toggleable__label-arrow:before {color: black;}#sk-container-id-3 div.sk-toggleable__content {max-height: 0;max-width: 0;overflow: hidden;text-align: left;background-color: #f0f8ff;}#sk-container-id-3 div.sk-toggleable__content pre {margin: 0.2em;color: black;border-radius: 0.25em;background-color: #f0f8ff;}#sk-container-id-3 input.sk-toggleable__control:checked~div.sk-toggleable__content {max-height: 200px;max-width: 100%;overflow: auto;}#sk-container-id-3 input.sk-toggleable__control:checked~label.sk-toggleable__label-arrow:before {content: \"▾\";}#sk-container-id-3 div.sk-estimator input.sk-toggleable__control:checked~label.sk-toggleable__label {background-color: #d4ebff;}#sk-container-id-3 div.sk-label input.sk-toggleable__control:checked~label.sk-toggleable__label {background-color: #d4ebff;}#sk-container-id-3 input.sk-hidden--visually {border: 0;clip: rect(1px 1px 1px 1px);clip: rect(1px, 1px, 1px, 1px);height: 1px;margin: -1px;overflow: hidden;padding: 0;position: absolute;width: 1px;}#sk-container-id-3 div.sk-estimator {font-family: monospace;background-color: #f0f8ff;border: 1px dotted black;border-radius: 0.25em;box-sizing: border-box;margin-bottom: 0.5em;}#sk-container-id-3 div.sk-estimator:hover {background-color: #d4ebff;}#sk-container-id-3 div.sk-parallel-item::after {content: \"\";width: 100%;border-bottom: 1px solid gray;flex-grow: 1;}#sk-container-id-3 div.sk-label:hover label.sk-toggleable__label {background-color: #d4ebff;}#sk-container-id-3 div.sk-serial::before {content: \"\";position: absolute;border-left: 1px solid gray;box-sizing: border-box;top: 0;bottom: 0;left: 50%;z-index: 0;}#sk-container-id-3 div.sk-serial {display: flex;flex-direction: column;align-items: center;background-color: white;padding-right: 0.2em;padding-left: 0.2em;position: relative;}#sk-container-id-3 div.sk-item {position: relative;z-index: 1;}#sk-container-id-3 div.sk-parallel {display: flex;align-items: stretch;justify-content: center;background-color: white;position: relative;}#sk-container-id-3 div.sk-item::before, #sk-container-id-3 div.sk-parallel-item::before {content: \"\";position: absolute;border-left: 1px solid gray;box-sizing: border-box;top: 0;bottom: 0;left: 50%;z-index: -1;}#sk-container-id-3 div.sk-parallel-item {display: flex;flex-direction: column;z-index: 1;position: relative;background-color: white;}#sk-container-id-3 div.sk-parallel-item:first-child::after {align-self: flex-end;width: 50%;}#sk-container-id-3 div.sk-parallel-item:last-child::after {align-self: flex-start;width: 50%;}#sk-container-id-3 div.sk-parallel-item:only-child::after {width: 0;}#sk-container-id-3 div.sk-dashed-wrapped {border: 1px dashed gray;margin: 0 0.4em 0.5em 0.4em;box-sizing: border-box;padding-bottom: 0.4em;background-color: white;}#sk-container-id-3 div.sk-label label {font-family: monospace;font-weight: bold;display: inline-block;line-height: 1.2em;}#sk-container-id-3 div.sk-label-container {text-align: center;}#sk-container-id-3 div.sk-container {/* jupyter's `normalize.less` sets `[hidden] { display: none; }` but bootstrap.min.css set `[hidden] { display: none !important; }` so we also need the `!important` here to be able to override the default hidden behavior on the sphinx rendered scikit-learn.org. See: https://github.com/scikit-learn/scikit-learn/issues/21755 */display: inline-block !important;position: relative;}#sk-container-id-3 div.sk-text-repr-fallback {display: none;}</style><div id=\"sk-container-id-3\" class=\"sk-top-container\"><div class=\"sk-text-repr-fallback\"><pre>LinearRegression()</pre><b>In a Jupyter environment, please rerun this cell to show the HTML representation or trust the notebook. <br />On GitHub, the HTML representation is unable to render, please try loading this page with nbviewer.org.</b></div><div class=\"sk-container\" hidden><div class=\"sk-item\"><div class=\"sk-estimator sk-toggleable\"><input class=\"sk-toggleable__control sk-hidden--visually\" id=\"sk-estimator-id-3\" type=\"checkbox\" checked><label for=\"sk-estimator-id-3\" class=\"sk-toggleable__label sk-toggleable__label-arrow\">LinearRegression</label><div class=\"sk-toggleable__content\"><pre>LinearRegression()</pre></div></div></div></div></div>"
      ],
      "text/plain": [
       "LinearRegression()"
      ]
     },
     "execution_count": 43,
     "metadata": {},
     "output_type": "execute_result"
    }
   ],
   "source": [
    "linear_regression.fit(x_train, y_train)"
   ]
  },
  {
   "cell_type": "markdown",
   "id": "e24c7ab3",
   "metadata": {},
   "source": [
    "### 6- Faites des prédictions sur les données de test en utilisant la méthode predict"
   ]
  },
  {
   "cell_type": "code",
   "execution_count": 44,
   "id": "298a7003",
   "metadata": {
    "execution": {
     "iopub.execute_input": "2023-11-11T08:37:59.862259Z",
     "iopub.status.busy": "2023-11-11T08:37:59.860889Z",
     "iopub.status.idle": "2023-11-11T08:37:59.870268Z",
     "shell.execute_reply": "2023-11-11T08:37:59.868770Z"
    },
    "papermill": {
     "duration": 0.022999,
     "end_time": "2023-11-11T08:37:59.873571",
     "exception": false,
     "start_time": "2023-11-11T08:37:59.850572",
     "status": "completed"
    },
    "tags": []
   },
   "outputs": [],
   "source": [
    "y_pred = linear_regression.predict(x_test)"
   ]
  },
  {
   "cell_type": "markdown",
   "id": "bf4fedbf",
   "metadata": {},
   "source": [
    "### 7-  Tracez le nuage de points ainsi que la ligne de régression (prédictions)"
   ]
  },
  {
   "cell_type": "code",
   "execution_count": 52,
   "id": "bf45986d",
   "metadata": {
    "execution": {
     "iopub.execute_input": "2023-11-11T08:37:59.895914Z",
     "iopub.status.busy": "2023-11-11T08:37:59.894416Z",
     "iopub.status.idle": "2023-11-11T08:38:00.318685Z",
     "shell.execute_reply": "2023-11-11T08:38:00.317538Z"
    },
    "papermill": {
     "duration": 0.438169,
     "end_time": "2023-11-11T08:38:00.321445",
     "exception": false,
     "start_time": "2023-11-11T08:37:59.883276",
     "status": "completed"
    },
    "tags": []
   },
   "outputs": [
    {
     "data": {
      "image/png": "[encoded data removed]",
      "text/plain": [
       "<Figure size 640x480 with 1 Axes>"
      ]
     },
     "metadata": {},
     "output_type": "display_data"
    }
   ],
   "source": [
    "plt.scatter(x, y)\n",
    "plt.plot(x_test, y_pred, color=\"#D42D85\")\n",
    "plt.xlabel('YearsExperience')\n",
    "plt.ylabel('Salary')\n",
    "plt.title('Taux de salaire')\n",
    "plt.grid()\n",
    "plt.show()"
   ]
  },
  {
   "cell_type": "markdown",
   "id": "610245dd",
   "metadata": {},
   "source": [
    "### 8- Calculez des métriques d'évaluation"
   ]
  },
  {
   "cell_type": "markdown",
   "id": "0da36867",
   "metadata": {},
   "source": [
    "Utilisez les fonctions de scikit-learn telles que mean_absolute_error, mean_squared_error, et r2_score pour calculer différentes métriques d'évaluation. Ensuite, Affichez les résultats à l'aide de la fonction print.\n"
   ]
  },
  {
   "cell_type": "code",
   "execution_count": 53,
   "id": "37e97fd2",
   "metadata": {
    "execution": {
     "iopub.execute_input": "2023-11-11T08:38:00.343135Z",
     "iopub.status.busy": "2023-11-11T08:38:00.342590Z",
     "iopub.status.idle": "2023-11-11T08:38:00.354979Z",
     "shell.execute_reply": "2023-11-11T08:38:00.353316Z"
    },
    "papermill": {
     "duration": 0.027194,
     "end_time": "2023-11-11T08:38:00.358209",
     "exception": false,
     "start_time": "2023-11-11T08:38:00.331015",
     "status": "completed"
    },
    "tags": []
   },
   "outputs": [
    {
     "name": "stdout",
     "output_type": "stream",
     "text": [
      "MSE (Mean Squared Error): 6092330866.519808\n",
      "R² (Coefficient de détermination): -965296349.276015\n",
      "MAE (Mean Absolute Error): 74478.65250125487\n"
     ]
    }
   ],
   "source": [
    "mse = mean_squared_error(y_test, y_pred)\n",
    "r2 = r2_score(y_test, y_pred)\n",
    "mae = mean_absolute_error(y_test, y_pred)\n",
    "\n",
    "print(\"MSE (Mean Squared Error):\", mse)\n",
    "print(\"R² (Coefficient de détermination):\", r2)\n",
    "print(\"MAE (Mean Absolute Error):\", mae)"
   ]
  },
  {
   "cell_type": "code",
   "execution_count": 54,
   "id": "73f9d608",
   "metadata": {},
   "outputs": [
    {
     "name": "stdout",
     "output_type": "stream",
     "text": [
      "MSE (Mean Squared Error): 6092330866.519808\n",
      "R² (Coefficient de détermination): -965296349.276015\n",
      "MAE (Mean Absolute Error): 74478.65250125487\n"
     ]
    }
   ],
   "source": [
    "mse = mean_squared_error(y_test, y_pred)\n",
    "r2 = r2_score(y_test, y_pred)\n",
    "mae = mean_absolute_error(y_test, y_pred)\n",
    "\n",
    "print(\"MSE (Mean Squared Error):\", mse)\n",
    "print(\"R² (Coefficient de détermination):\", r2)\n",
    "print(\"MAE (Mean Absolute Error):\", mae)"
   ]
  },
  {
   "cell_type": "code",
   "execution_count": 55,
   "id": "8abb05b5",
   "metadata": {},
   "outputs": [
    {
     "name": "stdout",
     "output_type": "stream",
     "text": [
      "MSE (Mean Squared Error): 6092330866.519808\n",
      "R² (Coefficient de détermination): -965296349.276015\n",
      "MAE (Mean Absolute Error): 74478.65250125487\n"
     ]
    }
   ],
   "source": [
    "mse = mean_squared_error(y_test, y_pred)\n",
    "r2 = r2_score(y_test, y_pred)\n",
    "mae = mean_absolute_error(y_test, y_pred)\n",
    "\n",
    "print(\"MSE (Mean Squared Error):\", mse)\n",
    "print(\"R² (Coefficient de détermination):\", r2)\n",
    "print(\"MAE (Mean Absolute Error):\", mae)"
   ]
  },
  {
   "cell_type": "code",
   "execution_count": null,
   "id": "001745a8",
   "metadata": {},
   "outputs": [],
   "source": []
  }
 ],
 "metadata": {
  "kaggle": {
   "accelerator": "none",
   "dataSources": [
    {
     "datasetId": 2799910,
     "sourceId": 4832081,
     "sourceType": "datasetVersion"
    }
   ],
   "dockerImageVersionId": 30579,
   "isGpuEnabled": false,
   "isInternetEnabled": false,
   "language": "python",
   "sourceType": "notebook"
  },
  "kernelspec": {
   "display_name": "Python 3 (ipykernel)",
   "language": "python",
   "name": "python3"
  },
  "language_info": {
   "codemirror_mode": {
    "name": "ipython",
    "version": 3
   },
   "file_extension": ".py",
   "mimetype": "text/x-python",
   "name": "python",
   "nbconvert_exporter": "python",
   "pygments_lexer": "ipython3",
   "version": "3.11.5"
  },
  "papermill": {
   "default_parameters": {},
   "duration": 8.486477,
   "end_time": "2023-11-11T08:38:01.095178",
   "environment_variables": {},
   "exception": null,
   "input_path": "__notebook__.ipynb",
   "output_path": "__notebook__.ipynb",
   "parameters": {},
   "start_time": "2023-11-11T08:37:52.608701",
   "version": "2.4.0"
  }
 },
 "nbformat": 4,
 "nbformat_minor": 5
}
